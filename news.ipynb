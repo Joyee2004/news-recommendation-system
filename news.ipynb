{
 "cells": [
  {
   "cell_type": "code",
   "execution_count": 7,
   "metadata": {},
   "outputs": [],
   "source": [
    "import numpy as np\n",
    "import pandas as pd\n",
    "import seaborn as sn \n"
   ]
  },
  {
   "cell_type": "code",
   "execution_count": 8,
   "metadata": {},
   "outputs": [],
   "source": [
    "df=pd.read_csv(\"result_final.csv\")"
   ]
  },
  {
   "cell_type": "code",
   "execution_count": 9,
   "metadata": {},
   "outputs": [
    {
     "data": {
      "text/html": [
       "<div>\n",
       "<style scoped>\n",
       "    .dataframe tbody tr th:only-of-type {\n",
       "        vertical-align: middle;\n",
       "    }\n",
       "\n",
       "    .dataframe tbody tr th {\n",
       "        vertical-align: top;\n",
       "    }\n",
       "\n",
       "    .dataframe thead th {\n",
       "        text-align: right;\n",
       "    }\n",
       "</style>\n",
       "<table border=\"1\" class=\"dataframe\">\n",
       "  <thead>\n",
       "    <tr style=\"text-align: right;\">\n",
       "      <th></th>\n",
       "      <th>Unnamed: 0.1</th>\n",
       "      <th>Unnamed: 0</th>\n",
       "      <th>link</th>\n",
       "      <th>text</th>\n",
       "      <th>title</th>\n",
       "      <th>date</th>\n",
       "      <th>keywords</th>\n",
       "      <th>summary</th>\n",
       "      <th>title_summary</th>\n",
       "    </tr>\n",
       "  </thead>\n",
       "  <tbody>\n",
       "    <tr>\n",
       "      <th>0</th>\n",
       "      <td>0</td>\n",
       "      <td>0</td>\n",
       "      <td>http://techcrunch.com/2020/09/07/vodafone-idea...</td>\n",
       "      <td>Vodafone Idea, one of the largest telecom oper...</td>\n",
       "      <td>Indian telecom giant Vodafone Idea rebrands as...</td>\n",
       "      <td>2020-09-07 00:00:00</td>\n",
       "      <td>['rebrands', 'idea', 'vi', 'giant', 'brand', '...</td>\n",
       "      <td>Vodafone Idea, one of the largest telecom oper...</td>\n",
       "      <td>Indian telecom giant Vodafone Idea rebrands as...</td>\n",
       "    </tr>\n",
       "    <tr>\n",
       "      <th>1</th>\n",
       "      <td>1</td>\n",
       "      <td>1</td>\n",
       "      <td>http://techcrunch.com/2020/09/16/facebook-addr...</td>\n",
       "      <td>At the beginning of the previous decade, Faceb...</td>\n",
       "      <td>Facebook addresses political controversy in In...</td>\n",
       "      <td>2020-09-16 00:00:00</td>\n",
       "      <td>['opportunities', 'whatsapp', 'controversy', '...</td>\n",
       "      <td>Politicians in the country today heavily rely ...</td>\n",
       "      <td>Facebook addresses political controversy in In...</td>\n",
       "    </tr>\n",
       "    <tr>\n",
       "      <th>2</th>\n",
       "      <td>2</td>\n",
       "      <td>2</td>\n",
       "      <td>http://techcrunch.com/2020/09/14/youtube-launc...</td>\n",
       "      <td>As TikTok’s fate in the U.S. remains murky, Yo...</td>\n",
       "      <td>YouTube launches its TikTok rival, YouTube Sho...</td>\n",
       "      <td>2020-09-14 00:00:00</td>\n",
       "      <td>['rival', 'video', 'feature', 'access', 'youtu...</td>\n",
       "      <td>As TikTok’s fate in the U.S. remains murky, Yo...</td>\n",
       "      <td>YouTube launches its TikTok rival, YouTube Sho...</td>\n",
       "    </tr>\n",
       "    <tr>\n",
       "      <th>3</th>\n",
       "      <td>3</td>\n",
       "      <td>3</td>\n",
       "      <td>http://techcrunch.com/2020/09/09/groww-an-inve...</td>\n",
       "      <td>Even as more than 150 million people are using...</td>\n",
       "      <td>Groww, an investment app for millennials in In...</td>\n",
       "      <td>2020-09-09 00:00:00</td>\n",
       "      <td>['world', 'yc', 'continuity', 'stocks', 'groww...</td>\n",
       "      <td>YC Continuity, the growth-stage investment fun...</td>\n",
       "      <td>Groww, an investment app for millennials in In...</td>\n",
       "    </tr>\n",
       "    <tr>\n",
       "      <th>4</th>\n",
       "      <td>4</td>\n",
       "      <td>4</td>\n",
       "      <td>http://techcrunch.com/2020/09/15/lanzatech-is-...</td>\n",
       "      <td>As part of the continuing global rollout of La...</td>\n",
       "      <td>LanzaTech is developing a small-scale waste bi...</td>\n",
       "      <td>2020-09-15 00:00:00</td>\n",
       "      <td>['production', 'distributed', 'developing', 's...</td>\n",
       "      <td>As part of the continuing global rollout of La...</td>\n",
       "      <td>LanzaTech is developing a small-scale waste bi...</td>\n",
       "    </tr>\n",
       "  </tbody>\n",
       "</table>\n",
       "</div>"
      ],
      "text/plain": [
       "   Unnamed: 0.1  Unnamed: 0  \\\n",
       "0             0           0   \n",
       "1             1           1   \n",
       "2             2           2   \n",
       "3             3           3   \n",
       "4             4           4   \n",
       "\n",
       "                                                link  \\\n",
       "0  http://techcrunch.com/2020/09/07/vodafone-idea...   \n",
       "1  http://techcrunch.com/2020/09/16/facebook-addr...   \n",
       "2  http://techcrunch.com/2020/09/14/youtube-launc...   \n",
       "3  http://techcrunch.com/2020/09/09/groww-an-inve...   \n",
       "4  http://techcrunch.com/2020/09/15/lanzatech-is-...   \n",
       "\n",
       "                                                text  \\\n",
       "0  Vodafone Idea, one of the largest telecom oper...   \n",
       "1  At the beginning of the previous decade, Faceb...   \n",
       "2  As TikTok’s fate in the U.S. remains murky, Yo...   \n",
       "3  Even as more than 150 million people are using...   \n",
       "4  As part of the continuing global rollout of La...   \n",
       "\n",
       "                                               title                 date  \\\n",
       "0  Indian telecom giant Vodafone Idea rebrands as...  2020-09-07 00:00:00   \n",
       "1  Facebook addresses political controversy in In...  2020-09-16 00:00:00   \n",
       "2  YouTube launches its TikTok rival, YouTube Sho...  2020-09-14 00:00:00   \n",
       "3  Groww, an investment app for millennials in In...  2020-09-09 00:00:00   \n",
       "4  LanzaTech is developing a small-scale waste bi...  2020-09-15 00:00:00   \n",
       "\n",
       "                                            keywords  \\\n",
       "0  ['rebrands', 'idea', 'vi', 'giant', 'brand', '...   \n",
       "1  ['opportunities', 'whatsapp', 'controversy', '...   \n",
       "2  ['rival', 'video', 'feature', 'access', 'youtu...   \n",
       "3  ['world', 'yc', 'continuity', 'stocks', 'groww...   \n",
       "4  ['production', 'distributed', 'developing', 's...   \n",
       "\n",
       "                                             summary  \\\n",
       "0  Vodafone Idea, one of the largest telecom oper...   \n",
       "1  Politicians in the country today heavily rely ...   \n",
       "2  As TikTok’s fate in the U.S. remains murky, Yo...   \n",
       "3  YC Continuity, the growth-stage investment fun...   \n",
       "4  As part of the continuing global rollout of La...   \n",
       "\n",
       "                                       title_summary  \n",
       "0  Indian telecom giant Vodafone Idea rebrands as...  \n",
       "1  Facebook addresses political controversy in In...  \n",
       "2  YouTube launches its TikTok rival, YouTube Sho...  \n",
       "3  Groww, an investment app for millennials in In...  \n",
       "4  LanzaTech is developing a small-scale waste bi...  "
      ]
     },
     "execution_count": 9,
     "metadata": {},
     "output_type": "execute_result"
    }
   ],
   "source": [
    "df.head()"
   ]
  },
  {
   "cell_type": "code",
   "execution_count": 10,
   "metadata": {},
   "outputs": [
    {
     "name": "stdout",
     "output_type": "stream",
     "text": [
      "<class 'pandas.core.frame.DataFrame'>\n",
      "RangeIndex: 2190 entries, 0 to 2189\n",
      "Data columns (total 9 columns):\n",
      " #   Column         Non-Null Count  Dtype \n",
      "---  ------         --------------  ----- \n",
      " 0   Unnamed: 0.1   2190 non-null   int64 \n",
      " 1   Unnamed: 0     2190 non-null   int64 \n",
      " 2   link           2190 non-null   object\n",
      " 3   text           2184 non-null   object\n",
      " 4   title          2187 non-null   object\n",
      " 5   date           1691 non-null   object\n",
      " 6   keywords       2187 non-null   object\n",
      " 7   summary        2184 non-null   object\n",
      " 8   title_summary  2184 non-null   object\n",
      "dtypes: int64(2), object(7)\n",
      "memory usage: 154.1+ KB\n"
     ]
    }
   ],
   "source": [
    "df.info()"
   ]
  },
  {
   "cell_type": "code",
   "execution_count": 11,
   "metadata": {},
   "outputs": [],
   "source": [
    "nlp=['title','text','summary','keywords']"
   ]
  },
  {
   "cell_type": "code",
   "execution_count": 39,
   "metadata": {},
   "outputs": [],
   "source": [
    "data=df[['title','text','summary','keywords','link','date']]"
   ]
  },
  {
   "cell_type": "code",
   "execution_count": 13,
   "metadata": {},
   "outputs": [
    {
     "data": {
      "text/plain": [
       "title       3\n",
       "text        6\n",
       "summary     6\n",
       "keywords    3\n",
       "link        0\n",
       "dtype: int64"
      ]
     },
     "execution_count": 13,
     "metadata": {},
     "output_type": "execute_result"
    }
   ],
   "source": [
    "data.isnull().sum()"
   ]
  },
  {
   "cell_type": "code",
   "execution_count": 14,
   "metadata": {},
   "outputs": [
    {
     "data": {
      "text/plain": [
       "(2190, 5)"
      ]
     },
     "execution_count": 14,
     "metadata": {},
     "output_type": "execute_result"
    }
   ],
   "source": [
    "data.shape"
   ]
  },
  {
   "cell_type": "code",
   "execution_count": 15,
   "metadata": {},
   "outputs": [
    {
     "data": {
      "text/plain": [
       "0       Indian telecom giant Vodafone Idea rebrands as...\n",
       "1       Facebook addresses political controversy in In...\n",
       "2       YouTube launches its TikTok rival, YouTube Sho...\n",
       "3       Groww, an investment app for millennials in In...\n",
       "4       LanzaTech is developing a small-scale waste bi...\n",
       "                              ...                        \n",
       "2185    Brazil's Guedes finds influence waning as Bols...\n",
       "2186      Bank of England gears up for next stimulus push\n",
       "2187    Syria says U.S. sanctions behind acute fuel cr...\n",
       "2188    Business & Financial News, U.S & International...\n",
       "2189    METALS-LME copper falls most in seven sessions...\n",
       "Name: title, Length: 2187, dtype: object"
      ]
     },
     "execution_count": 15,
     "metadata": {},
     "output_type": "execute_result"
    }
   ],
   "source": [
    "data.title.dropna()"
   ]
  },
  {
   "cell_type": "code",
   "execution_count": 16,
   "metadata": {},
   "outputs": [
    {
     "data": {
      "text/plain": [
       "0       Vodafone Idea, one of the largest telecom oper...\n",
       "1       At the beginning of the previous decade, Faceb...\n",
       "2       As TikTok’s fate in the U.S. remains murky, Yo...\n",
       "3       Even as more than 150 million people are using...\n",
       "4       As part of the continuing global rollout of La...\n",
       "                              ...                        \n",
       "2185    BRASILIA (Reuters) - Paulo Guedes has faced hi...\n",
       "2186    LONDON (Reuters) - The Bank of England is expe...\n",
       "2187    AMMAN (Reuters) - Syria is experiencing worsen...\n",
       "2188    Curiosity high for TV's anything-can-happen vi...\n",
       "2189    MELBOURNE, Sept 17 (Reuters) - London copper f...\n",
       "Name: text, Length: 2184, dtype: object"
      ]
     },
     "execution_count": 16,
     "metadata": {},
     "output_type": "execute_result"
    }
   ],
   "source": [
    "data.text.dropna()"
   ]
  },
  {
   "cell_type": "code",
   "execution_count": 17,
   "metadata": {},
   "outputs": [
    {
     "data": {
      "text/html": [
       "<div>\n",
       "<style scoped>\n",
       "    .dataframe tbody tr th:only-of-type {\n",
       "        vertical-align: middle;\n",
       "    }\n",
       "\n",
       "    .dataframe tbody tr th {\n",
       "        vertical-align: top;\n",
       "    }\n",
       "\n",
       "    .dataframe thead th {\n",
       "        text-align: right;\n",
       "    }\n",
       "</style>\n",
       "<table border=\"1\" class=\"dataframe\">\n",
       "  <thead>\n",
       "    <tr style=\"text-align: right;\">\n",
       "      <th></th>\n",
       "      <th>title</th>\n",
       "      <th>text</th>\n",
       "      <th>summary</th>\n",
       "      <th>keywords</th>\n",
       "      <th>link</th>\n",
       "    </tr>\n",
       "  </thead>\n",
       "  <tbody>\n",
       "    <tr>\n",
       "      <th>0</th>\n",
       "      <td>Indian telecom giant Vodafone Idea rebrands as...</td>\n",
       "      <td>Vodafone Idea, one of the largest telecom oper...</td>\n",
       "      <td>Vodafone Idea, one of the largest telecom oper...</td>\n",
       "      <td>['rebrands', 'idea', 'vi', 'giant', 'brand', '...</td>\n",
       "      <td>http://techcrunch.com/2020/09/07/vodafone-idea...</td>\n",
       "    </tr>\n",
       "    <tr>\n",
       "      <th>1</th>\n",
       "      <td>Facebook addresses political controversy in In...</td>\n",
       "      <td>At the beginning of the previous decade, Faceb...</td>\n",
       "      <td>Politicians in the country today heavily rely ...</td>\n",
       "      <td>['opportunities', 'whatsapp', 'controversy', '...</td>\n",
       "      <td>http://techcrunch.com/2020/09/16/facebook-addr...</td>\n",
       "    </tr>\n",
       "    <tr>\n",
       "      <th>2</th>\n",
       "      <td>YouTube launches its TikTok rival, YouTube Sho...</td>\n",
       "      <td>As TikTok’s fate in the U.S. remains murky, Yo...</td>\n",
       "      <td>As TikTok’s fate in the U.S. remains murky, Yo...</td>\n",
       "      <td>['rival', 'video', 'feature', 'access', 'youtu...</td>\n",
       "      <td>http://techcrunch.com/2020/09/14/youtube-launc...</td>\n",
       "    </tr>\n",
       "    <tr>\n",
       "      <th>3</th>\n",
       "      <td>Groww, an investment app for millennials in In...</td>\n",
       "      <td>Even as more than 150 million people are using...</td>\n",
       "      <td>YC Continuity, the growth-stage investment fun...</td>\n",
       "      <td>['world', 'yc', 'continuity', 'stocks', 'groww...</td>\n",
       "      <td>http://techcrunch.com/2020/09/09/groww-an-inve...</td>\n",
       "    </tr>\n",
       "    <tr>\n",
       "      <th>4</th>\n",
       "      <td>LanzaTech is developing a small-scale waste bi...</td>\n",
       "      <td>As part of the continuing global rollout of La...</td>\n",
       "      <td>As part of the continuing global rollout of La...</td>\n",
       "      <td>['production', 'distributed', 'developing', 's...</td>\n",
       "      <td>http://techcrunch.com/2020/09/15/lanzatech-is-...</td>\n",
       "    </tr>\n",
       "  </tbody>\n",
       "</table>\n",
       "</div>"
      ],
      "text/plain": [
       "                                               title  \\\n",
       "0  Indian telecom giant Vodafone Idea rebrands as...   \n",
       "1  Facebook addresses political controversy in In...   \n",
       "2  YouTube launches its TikTok rival, YouTube Sho...   \n",
       "3  Groww, an investment app for millennials in In...   \n",
       "4  LanzaTech is developing a small-scale waste bi...   \n",
       "\n",
       "                                                text  \\\n",
       "0  Vodafone Idea, one of the largest telecom oper...   \n",
       "1  At the beginning of the previous decade, Faceb...   \n",
       "2  As TikTok’s fate in the U.S. remains murky, Yo...   \n",
       "3  Even as more than 150 million people are using...   \n",
       "4  As part of the continuing global rollout of La...   \n",
       "\n",
       "                                             summary  \\\n",
       "0  Vodafone Idea, one of the largest telecom oper...   \n",
       "1  Politicians in the country today heavily rely ...   \n",
       "2  As TikTok’s fate in the U.S. remains murky, Yo...   \n",
       "3  YC Continuity, the growth-stage investment fun...   \n",
       "4  As part of the continuing global rollout of La...   \n",
       "\n",
       "                                            keywords  \\\n",
       "0  ['rebrands', 'idea', 'vi', 'giant', 'brand', '...   \n",
       "1  ['opportunities', 'whatsapp', 'controversy', '...   \n",
       "2  ['rival', 'video', 'feature', 'access', 'youtu...   \n",
       "3  ['world', 'yc', 'continuity', 'stocks', 'groww...   \n",
       "4  ['production', 'distributed', 'developing', 's...   \n",
       "\n",
       "                                                link  \n",
       "0  http://techcrunch.com/2020/09/07/vodafone-idea...  \n",
       "1  http://techcrunch.com/2020/09/16/facebook-addr...  \n",
       "2  http://techcrunch.com/2020/09/14/youtube-launc...  \n",
       "3  http://techcrunch.com/2020/09/09/groww-an-inve...  \n",
       "4  http://techcrunch.com/2020/09/15/lanzatech-is-...  "
      ]
     },
     "execution_count": 17,
     "metadata": {},
     "output_type": "execute_result"
    }
   ],
   "source": [
    "data.head()"
   ]
  },
  {
   "cell_type": "code",
   "execution_count": 65,
   "metadata": {},
   "outputs": [
    {
     "data": {
      "text/plain": [
       "dtype('O')"
      ]
     },
     "execution_count": 65,
     "metadata": {},
     "output_type": "execute_result"
    }
   ],
   "source": [
    "data.date.dtypes"
   ]
  },
  {
   "cell_type": "code",
   "execution_count": 43,
   "metadata": {},
   "outputs": [
    {
     "name": "stderr",
     "output_type": "stream",
     "text": [
      "C:\\Users\\joyee\\AppData\\Local\\Temp\\ipykernel_20700\\2282015914.py:1: SettingWithCopyWarning: \n",
      "A value is trying to be set on a copy of a slice from a DataFrame\n",
      "\n",
      "See the caveats in the documentation: https://pandas.pydata.org/pandas-docs/stable/user_guide/indexing.html#returning-a-view-versus-a-copy\n",
      "  data.drop_duplicates(inplace=True)\n"
     ]
    }
   ],
   "source": [
    "data.drop_duplicates(inplace=True)"
   ]
  },
  {
   "cell_type": "code",
   "execution_count": 44,
   "metadata": {},
   "outputs": [
    {
     "data": {
      "text/plain": [
       "2138"
      ]
     },
     "execution_count": 44,
     "metadata": {},
     "output_type": "execute_result"
    }
   ],
   "source": [
    "data.shape[0]"
   ]
  },
  {
   "cell_type": "code",
   "execution_count": 45,
   "metadata": {},
   "outputs": [
    {
     "data": {
      "text/plain": [
       "Index(['title', 'text', 'summary', 'keywords', 'link', 'date'], dtype='object')"
      ]
     },
     "execution_count": 45,
     "metadata": {},
     "output_type": "execute_result"
    }
   ],
   "source": [
    "data.columns"
   ]
  },
  {
   "cell_type": "code",
   "execution_count": 46,
   "metadata": {},
   "outputs": [],
   "source": [
    "from nltk.corpus import stopwords\n",
    "from sklearn.metrics.pairwise import linear_kernel\n",
    "from sklearn.feature_extraction.text import CountVectorizer\n",
    "from sklearn.feature_extraction.text import TfidfVectorizer\n",
    "from nltk.tokenize import RegexpTokenizer\n",
    "import re\n",
    "import string\n",
    "import random"
   ]
  },
  {
   "cell_type": "code",
   "execution_count": 23,
   "metadata": {},
   "outputs": [
    {
     "name": "stderr",
     "output_type": "stream",
     "text": [
      "C:\\Users\\joyee\\AppData\\Local\\Temp\\ipykernel_20700\\3167545166.py:3: SettingWithCopyWarning: \n",
      "A value is trying to be set on a copy of a slice from a DataFrame.\n",
      "Try using .loc[row_indexer,col_indexer] = value instead\n",
      "\n",
      "See the caveats in the documentation: https://pandas.pydata.org/pandas-docs/stable/user_guide/indexing.html#returning-a-view-versus-a-copy\n",
      "  data[i]=data[i].str.replace(\"[^a-zA-z0-9 ]\",\"\",regex=True)\n",
      "C:\\Users\\joyee\\AppData\\Local\\Temp\\ipykernel_20700\\3167545166.py:4: SettingWithCopyWarning: \n",
      "A value is trying to be set on a copy of a slice from a DataFrame.\n",
      "Try using .loc[row_indexer,col_indexer] = value instead\n",
      "\n",
      "See the caveats in the documentation: https://pandas.pydata.org/pandas-docs/stable/user_guide/indexing.html#returning-a-view-versus-a-copy\n",
      "  data[i]=data[i].str.lower()\n",
      "C:\\Users\\joyee\\AppData\\Local\\Temp\\ipykernel_20700\\3167545166.py:5: SettingWithCopyWarning: \n",
      "A value is trying to be set on a copy of a slice from a DataFrame.\n",
      "Try using .loc[row_indexer,col_indexer] = value instead\n",
      "\n",
      "See the caveats in the documentation: https://pandas.pydata.org/pandas-docs/stable/user_guide/indexing.html#returning-a-view-versus-a-copy\n",
      "  data[i]=data[i].str.replace(\"\\s+\",\" \",regex=True)\n"
     ]
    }
   ],
   "source": [
    "for i in nlp:\n",
    "    if(data[i].dtypes=='object'):\n",
    "        data[i]=data[i].str.replace(\"[^a-zA-z0-9 ]\",\"\",regex=True)\n",
    "        data[i]=data[i].str.lower()\n",
    "        data[i]=data[i].str.replace(\"\\s+\",\" \",regex=True)"
   ]
  },
  {
   "cell_type": "code",
   "execution_count": 47,
   "metadata": {},
   "outputs": [
    {
     "data": {
      "text/plain": [
       "title         3\n",
       "text          6\n",
       "summary       6\n",
       "keywords      3\n",
       "link          0\n",
       "date        487\n",
       "dtype: int64"
      ]
     },
     "execution_count": 47,
     "metadata": {},
     "output_type": "execute_result"
    }
   ],
   "source": [
    "data.isnull().sum()"
   ]
  },
  {
   "cell_type": "code",
   "execution_count": 48,
   "metadata": {},
   "outputs": [
    {
     "name": "stderr",
     "output_type": "stream",
     "text": [
      "C:\\Users\\joyee\\AppData\\Local\\Temp\\ipykernel_20700\\1368182302.py:1: SettingWithCopyWarning: \n",
      "A value is trying to be set on a copy of a slice from a DataFrame\n",
      "\n",
      "See the caveats in the documentation: https://pandas.pydata.org/pandas-docs/stable/user_guide/indexing.html#returning-a-view-versus-a-copy\n",
      "  data.dropna(inplace=True)\n"
     ]
    }
   ],
   "source": [
    "data.dropna(inplace=True)"
   ]
  },
  {
   "cell_type": "code",
   "execution_count": 49,
   "metadata": {},
   "outputs": [
    {
     "data": {
      "text/plain": [
       "(1649, 6)"
      ]
     },
     "execution_count": 49,
     "metadata": {},
     "output_type": "execute_result"
    }
   ],
   "source": [
    "data.shape"
   ]
  },
  {
   "cell_type": "code",
   "execution_count": 50,
   "metadata": {},
   "outputs": [
    {
     "data": {
      "text/plain": [
       "title       0\n",
       "text        0\n",
       "summary     0\n",
       "keywords    0\n",
       "link        0\n",
       "date        0\n",
       "dtype: int64"
      ]
     },
     "execution_count": 50,
     "metadata": {},
     "output_type": "execute_result"
    }
   ],
   "source": [
    "data.isnull().sum()"
   ]
  },
  {
   "cell_type": "code",
   "execution_count": 51,
   "metadata": {},
   "outputs": [
    {
     "data": {
      "text/plain": [
       "0"
      ]
     },
     "execution_count": 51,
     "metadata": {},
     "output_type": "execute_result"
    }
   ],
   "source": [
    "data.duplicated().sum()"
   ]
  },
  {
   "cell_type": "code",
   "execution_count": 53,
   "metadata": {},
   "outputs": [],
   "source": [
    "tf = TfidfVectorizer(analyzer='word',stop_words='english',max_df=0.8,min_df=0.0,use_idf=True,ngram_range=(1,3))\n",
    "tfidf_matrix = tf.fit_transform(data['text'])"
   ]
  },
  {
   "cell_type": "code",
   "execution_count": 54,
   "metadata": {},
   "outputs": [
    {
     "data": {
      "text/html": [
       "<div>\n",
       "<style scoped>\n",
       "    .dataframe tbody tr th:only-of-type {\n",
       "        vertical-align: middle;\n",
       "    }\n",
       "\n",
       "    .dataframe tbody tr th {\n",
       "        vertical-align: top;\n",
       "    }\n",
       "\n",
       "    .dataframe thead th {\n",
       "        text-align: right;\n",
       "    }\n",
       "</style>\n",
       "<table border=\"1\" class=\"dataframe\">\n",
       "  <thead>\n",
       "    <tr style=\"text-align: right;\">\n",
       "      <th></th>\n",
       "      <th>00</th>\n",
       "      <th>00 00</th>\n",
       "      <th>00 00 25</th>\n",
       "      <th>00 00 hkt</th>\n",
       "      <th>00 01</th>\n",
       "      <th>00 01 53</th>\n",
       "      <th>00 02</th>\n",
       "      <th>00 02 1300</th>\n",
       "      <th>00 02 sep</th>\n",
       "      <th>00 03</th>\n",
       "      <th>...</th>\n",
       "      <th>åsberg partner nextgrid</th>\n",
       "      <th>łódź</th>\n",
       "      <th>łódź wrocław</th>\n",
       "      <th>łódź wrocław gdansk</th>\n",
       "      <th>𝗺𝗼𝗻𝘁𝗵</th>\n",
       "      <th>𝗺𝗼𝗻𝘁𝗵 pandemic</th>\n",
       "      <th>𝗺𝗼𝗻𝘁𝗵 pandemic sustain</th>\n",
       "      <th>𝗽𝗲𝗿</th>\n",
       "      <th>𝗽𝗲𝗿 𝗺𝗼𝗻𝘁𝗵</th>\n",
       "      <th>𝗽𝗲𝗿 𝗺𝗼𝗻𝘁𝗵 pandemic</th>\n",
       "    </tr>\n",
       "  </thead>\n",
       "  <tbody>\n",
       "    <tr>\n",
       "      <th>0</th>\n",
       "      <td>0.0</td>\n",
       "      <td>0.0</td>\n",
       "      <td>0.0</td>\n",
       "      <td>0.0</td>\n",
       "      <td>0.0</td>\n",
       "      <td>0.0</td>\n",
       "      <td>0.0</td>\n",
       "      <td>0.0</td>\n",
       "      <td>0.0</td>\n",
       "      <td>0.0</td>\n",
       "      <td>...</td>\n",
       "      <td>0.0</td>\n",
       "      <td>0.0</td>\n",
       "      <td>0.0</td>\n",
       "      <td>0.0</td>\n",
       "      <td>0.0</td>\n",
       "      <td>0.0</td>\n",
       "      <td>0.0</td>\n",
       "      <td>0.0</td>\n",
       "      <td>0.0</td>\n",
       "      <td>0.0</td>\n",
       "    </tr>\n",
       "    <tr>\n",
       "      <th>1</th>\n",
       "      <td>0.0</td>\n",
       "      <td>0.0</td>\n",
       "      <td>0.0</td>\n",
       "      <td>0.0</td>\n",
       "      <td>0.0</td>\n",
       "      <td>0.0</td>\n",
       "      <td>0.0</td>\n",
       "      <td>0.0</td>\n",
       "      <td>0.0</td>\n",
       "      <td>0.0</td>\n",
       "      <td>...</td>\n",
       "      <td>0.0</td>\n",
       "      <td>0.0</td>\n",
       "      <td>0.0</td>\n",
       "      <td>0.0</td>\n",
       "      <td>0.0</td>\n",
       "      <td>0.0</td>\n",
       "      <td>0.0</td>\n",
       "      <td>0.0</td>\n",
       "      <td>0.0</td>\n",
       "      <td>0.0</td>\n",
       "    </tr>\n",
       "    <tr>\n",
       "      <th>2</th>\n",
       "      <td>0.0</td>\n",
       "      <td>0.0</td>\n",
       "      <td>0.0</td>\n",
       "      <td>0.0</td>\n",
       "      <td>0.0</td>\n",
       "      <td>0.0</td>\n",
       "      <td>0.0</td>\n",
       "      <td>0.0</td>\n",
       "      <td>0.0</td>\n",
       "      <td>0.0</td>\n",
       "      <td>...</td>\n",
       "      <td>0.0</td>\n",
       "      <td>0.0</td>\n",
       "      <td>0.0</td>\n",
       "      <td>0.0</td>\n",
       "      <td>0.0</td>\n",
       "      <td>0.0</td>\n",
       "      <td>0.0</td>\n",
       "      <td>0.0</td>\n",
       "      <td>0.0</td>\n",
       "      <td>0.0</td>\n",
       "    </tr>\n",
       "    <tr>\n",
       "      <th>3</th>\n",
       "      <td>0.0</td>\n",
       "      <td>0.0</td>\n",
       "      <td>0.0</td>\n",
       "      <td>0.0</td>\n",
       "      <td>0.0</td>\n",
       "      <td>0.0</td>\n",
       "      <td>0.0</td>\n",
       "      <td>0.0</td>\n",
       "      <td>0.0</td>\n",
       "      <td>0.0</td>\n",
       "      <td>...</td>\n",
       "      <td>0.0</td>\n",
       "      <td>0.0</td>\n",
       "      <td>0.0</td>\n",
       "      <td>0.0</td>\n",
       "      <td>0.0</td>\n",
       "      <td>0.0</td>\n",
       "      <td>0.0</td>\n",
       "      <td>0.0</td>\n",
       "      <td>0.0</td>\n",
       "      <td>0.0</td>\n",
       "    </tr>\n",
       "    <tr>\n",
       "      <th>4</th>\n",
       "      <td>0.0</td>\n",
       "      <td>0.0</td>\n",
       "      <td>0.0</td>\n",
       "      <td>0.0</td>\n",
       "      <td>0.0</td>\n",
       "      <td>0.0</td>\n",
       "      <td>0.0</td>\n",
       "      <td>0.0</td>\n",
       "      <td>0.0</td>\n",
       "      <td>0.0</td>\n",
       "      <td>...</td>\n",
       "      <td>0.0</td>\n",
       "      <td>0.0</td>\n",
       "      <td>0.0</td>\n",
       "      <td>0.0</td>\n",
       "      <td>0.0</td>\n",
       "      <td>0.0</td>\n",
       "      <td>0.0</td>\n",
       "      <td>0.0</td>\n",
       "      <td>0.0</td>\n",
       "      <td>0.0</td>\n",
       "    </tr>\n",
       "    <tr>\n",
       "      <th>...</th>\n",
       "      <td>...</td>\n",
       "      <td>...</td>\n",
       "      <td>...</td>\n",
       "      <td>...</td>\n",
       "      <td>...</td>\n",
       "      <td>...</td>\n",
       "      <td>...</td>\n",
       "      <td>...</td>\n",
       "      <td>...</td>\n",
       "      <td>...</td>\n",
       "      <td>...</td>\n",
       "      <td>...</td>\n",
       "      <td>...</td>\n",
       "      <td>...</td>\n",
       "      <td>...</td>\n",
       "      <td>...</td>\n",
       "      <td>...</td>\n",
       "      <td>...</td>\n",
       "      <td>...</td>\n",
       "      <td>...</td>\n",
       "      <td>...</td>\n",
       "    </tr>\n",
       "    <tr>\n",
       "      <th>1644</th>\n",
       "      <td>0.0</td>\n",
       "      <td>0.0</td>\n",
       "      <td>0.0</td>\n",
       "      <td>0.0</td>\n",
       "      <td>0.0</td>\n",
       "      <td>0.0</td>\n",
       "      <td>0.0</td>\n",
       "      <td>0.0</td>\n",
       "      <td>0.0</td>\n",
       "      <td>0.0</td>\n",
       "      <td>...</td>\n",
       "      <td>0.0</td>\n",
       "      <td>0.0</td>\n",
       "      <td>0.0</td>\n",
       "      <td>0.0</td>\n",
       "      <td>0.0</td>\n",
       "      <td>0.0</td>\n",
       "      <td>0.0</td>\n",
       "      <td>0.0</td>\n",
       "      <td>0.0</td>\n",
       "      <td>0.0</td>\n",
       "    </tr>\n",
       "    <tr>\n",
       "      <th>1645</th>\n",
       "      <td>0.0</td>\n",
       "      <td>0.0</td>\n",
       "      <td>0.0</td>\n",
       "      <td>0.0</td>\n",
       "      <td>0.0</td>\n",
       "      <td>0.0</td>\n",
       "      <td>0.0</td>\n",
       "      <td>0.0</td>\n",
       "      <td>0.0</td>\n",
       "      <td>0.0</td>\n",
       "      <td>...</td>\n",
       "      <td>0.0</td>\n",
       "      <td>0.0</td>\n",
       "      <td>0.0</td>\n",
       "      <td>0.0</td>\n",
       "      <td>0.0</td>\n",
       "      <td>0.0</td>\n",
       "      <td>0.0</td>\n",
       "      <td>0.0</td>\n",
       "      <td>0.0</td>\n",
       "      <td>0.0</td>\n",
       "    </tr>\n",
       "    <tr>\n",
       "      <th>1646</th>\n",
       "      <td>0.0</td>\n",
       "      <td>0.0</td>\n",
       "      <td>0.0</td>\n",
       "      <td>0.0</td>\n",
       "      <td>0.0</td>\n",
       "      <td>0.0</td>\n",
       "      <td>0.0</td>\n",
       "      <td>0.0</td>\n",
       "      <td>0.0</td>\n",
       "      <td>0.0</td>\n",
       "      <td>...</td>\n",
       "      <td>0.0</td>\n",
       "      <td>0.0</td>\n",
       "      <td>0.0</td>\n",
       "      <td>0.0</td>\n",
       "      <td>0.0</td>\n",
       "      <td>0.0</td>\n",
       "      <td>0.0</td>\n",
       "      <td>0.0</td>\n",
       "      <td>0.0</td>\n",
       "      <td>0.0</td>\n",
       "    </tr>\n",
       "    <tr>\n",
       "      <th>1647</th>\n",
       "      <td>0.0</td>\n",
       "      <td>0.0</td>\n",
       "      <td>0.0</td>\n",
       "      <td>0.0</td>\n",
       "      <td>0.0</td>\n",
       "      <td>0.0</td>\n",
       "      <td>0.0</td>\n",
       "      <td>0.0</td>\n",
       "      <td>0.0</td>\n",
       "      <td>0.0</td>\n",
       "      <td>...</td>\n",
       "      <td>0.0</td>\n",
       "      <td>0.0</td>\n",
       "      <td>0.0</td>\n",
       "      <td>0.0</td>\n",
       "      <td>0.0</td>\n",
       "      <td>0.0</td>\n",
       "      <td>0.0</td>\n",
       "      <td>0.0</td>\n",
       "      <td>0.0</td>\n",
       "      <td>0.0</td>\n",
       "    </tr>\n",
       "    <tr>\n",
       "      <th>1648</th>\n",
       "      <td>0.0</td>\n",
       "      <td>0.0</td>\n",
       "      <td>0.0</td>\n",
       "      <td>0.0</td>\n",
       "      <td>0.0</td>\n",
       "      <td>0.0</td>\n",
       "      <td>0.0</td>\n",
       "      <td>0.0</td>\n",
       "      <td>0.0</td>\n",
       "      <td>0.0</td>\n",
       "      <td>...</td>\n",
       "      <td>0.0</td>\n",
       "      <td>0.0</td>\n",
       "      <td>0.0</td>\n",
       "      <td>0.0</td>\n",
       "      <td>0.0</td>\n",
       "      <td>0.0</td>\n",
       "      <td>0.0</td>\n",
       "      <td>0.0</td>\n",
       "      <td>0.0</td>\n",
       "      <td>0.0</td>\n",
       "    </tr>\n",
       "  </tbody>\n",
       "</table>\n",
       "<p>1649 rows × 791235 columns</p>\n",
       "</div>"
      ],
      "text/plain": [
       "       00  00 00  00 00 25  00 00 hkt  00 01  00 01 53  00 02  00 02 1300  \\\n",
       "0     0.0    0.0       0.0        0.0    0.0       0.0    0.0         0.0   \n",
       "1     0.0    0.0       0.0        0.0    0.0       0.0    0.0         0.0   \n",
       "2     0.0    0.0       0.0        0.0    0.0       0.0    0.0         0.0   \n",
       "3     0.0    0.0       0.0        0.0    0.0       0.0    0.0         0.0   \n",
       "4     0.0    0.0       0.0        0.0    0.0       0.0    0.0         0.0   \n",
       "...   ...    ...       ...        ...    ...       ...    ...         ...   \n",
       "1644  0.0    0.0       0.0        0.0    0.0       0.0    0.0         0.0   \n",
       "1645  0.0    0.0       0.0        0.0    0.0       0.0    0.0         0.0   \n",
       "1646  0.0    0.0       0.0        0.0    0.0       0.0    0.0         0.0   \n",
       "1647  0.0    0.0       0.0        0.0    0.0       0.0    0.0         0.0   \n",
       "1648  0.0    0.0       0.0        0.0    0.0       0.0    0.0         0.0   \n",
       "\n",
       "      00 02 sep  00 03  ...  åsberg partner nextgrid  łódź  łódź wrocław  \\\n",
       "0           0.0    0.0  ...                      0.0   0.0           0.0   \n",
       "1           0.0    0.0  ...                      0.0   0.0           0.0   \n",
       "2           0.0    0.0  ...                      0.0   0.0           0.0   \n",
       "3           0.0    0.0  ...                      0.0   0.0           0.0   \n",
       "4           0.0    0.0  ...                      0.0   0.0           0.0   \n",
       "...         ...    ...  ...                      ...   ...           ...   \n",
       "1644        0.0    0.0  ...                      0.0   0.0           0.0   \n",
       "1645        0.0    0.0  ...                      0.0   0.0           0.0   \n",
       "1646        0.0    0.0  ...                      0.0   0.0           0.0   \n",
       "1647        0.0    0.0  ...                      0.0   0.0           0.0   \n",
       "1648        0.0    0.0  ...                      0.0   0.0           0.0   \n",
       "\n",
       "      łódź wrocław gdansk  𝗺𝗼𝗻𝘁𝗵  𝗺𝗼𝗻𝘁𝗵 pandemic  𝗺𝗼𝗻𝘁𝗵 pandemic sustain  𝗽𝗲𝗿  \\\n",
       "0                     0.0    0.0             0.0                     0.0  0.0   \n",
       "1                     0.0    0.0             0.0                     0.0  0.0   \n",
       "2                     0.0    0.0             0.0                     0.0  0.0   \n",
       "3                     0.0    0.0             0.0                     0.0  0.0   \n",
       "4                     0.0    0.0             0.0                     0.0  0.0   \n",
       "...                   ...    ...             ...                     ...  ...   \n",
       "1644                  0.0    0.0             0.0                     0.0  0.0   \n",
       "1645                  0.0    0.0             0.0                     0.0  0.0   \n",
       "1646                  0.0    0.0             0.0                     0.0  0.0   \n",
       "1647                  0.0    0.0             0.0                     0.0  0.0   \n",
       "1648                  0.0    0.0             0.0                     0.0  0.0   \n",
       "\n",
       "      𝗽𝗲𝗿 𝗺𝗼𝗻𝘁𝗵  𝗽𝗲𝗿 𝗺𝗼𝗻𝘁𝗵 pandemic  \n",
       "0           0.0                 0.0  \n",
       "1           0.0                 0.0  \n",
       "2           0.0                 0.0  \n",
       "3           0.0                 0.0  \n",
       "4           0.0                 0.0  \n",
       "...         ...                 ...  \n",
       "1644        0.0                 0.0  \n",
       "1645        0.0                 0.0  \n",
       "1646        0.0                 0.0  \n",
       "1647        0.0                 0.0  \n",
       "1648        0.0                 0.0  \n",
       "\n",
       "[1649 rows x 791235 columns]"
      ]
     },
     "execution_count": 54,
     "metadata": {},
     "output_type": "execute_result"
    }
   ],
   "source": [
    "pd.DataFrame(tfidf_matrix.toarray(), columns=tf.get_feature_names_out())"
   ]
  },
  {
   "cell_type": "code",
   "execution_count": 55,
   "metadata": {},
   "outputs": [],
   "source": [
    "\n",
    "cosim = linear_kernel(tfidf_matrix, tfidf_matrix)\n"
   ]
  },
  {
   "cell_type": "code",
   "execution_count": 56,
   "metadata": {},
   "outputs": [
    {
     "data": {
      "text/plain": [
       "(1649, 1649)"
      ]
     },
     "execution_count": 56,
     "metadata": {},
     "output_type": "execute_result"
    }
   ],
   "source": [
    "cossim.shape"
   ]
  },
  {
   "cell_type": "code",
   "execution_count": 57,
   "metadata": {},
   "outputs": [],
   "source": [
    "data.reset_index(inplace=True)"
   ]
  },
  {
   "cell_type": "code",
   "execution_count": 71,
   "metadata": {},
   "outputs": [],
   "source": [
    "def rec(idx,no_of_news_article):\n",
    "    \n",
    "    simscore = list(enumerate(cossim[idx]))\n",
    "    simscore = sorted(simscore, key=lambda x: x[1], reverse=True)\n",
    "   \n",
    "    simscore = simscore[1:no_of_news_article+1]\n",
    "    \n",
    "    print(\"Article Read -- \" + data['title'].iloc[idx] +\" link --\"+ data['link'].iloc[idx])\n",
    "    print(\" ---------------------------------------------------------- \")\n",
    "    news_indices = [i[0] for i in simscore]\n",
    "    for i in range(len(news_indices)):\n",
    "        print(\"Recomendation \"+ str(i+1)+\" --- \" +str(news_indices[i])+\"(IDX)  \"+str(data['date'].iloc[news_indices[i]])+\" : \"+\n",
    "              data['title'].iloc[news_indices[i]] +\" || Link --\"+ data['link'].iloc[news_indices[i]] +\" score -- \"+ str(simscore[i][1]))\n",
    "        print()"
   ]
  },
  {
   "cell_type": "code",
   "execution_count": 72,
   "metadata": {},
   "outputs": [
    {
     "name": "stdout",
     "output_type": "stream",
     "text": [
      "Article Read -- Indian decacorn Byju’s CEO talks about future acquisitions, coronavirus and international expansion – TechCrunch link --http://techcrunch.com/2020/09/15/indian-decacorn-byjus-ceo-talks-about-future-acquisitions-coronavirus-and-international-expansion/\n",
      " ---------------------------------------------------------- \n",
      "Recomendation 1 --- 930(IDX)  2020-09-15 00:00:00 : Indian decacorn Byju’s CEO talks about future acquisitions, coronavirus and international expansion – TechCrunch || Link --http://techcrunch.com/2020/09/15/indian-decacorn-byjus-ceo-talks-about-future-acquisitions-coronavirus-and-international-expansion/ score -- 0.9999999999999954\n",
      "\n",
      "Recomendation 2 --- 9(IDX)  2020-09-07 00:00:00 : Silver Lake leads $500 million investment round in Indian online learning giant Byju’s – TechCrunch || Link --http://techcrunch.com/2020/09/07/silver-lake-leads-500-million-round-in-indias-byjus/ score -- 0.2095801058876128\n",
      "\n",
      "Recomendation 3 --- 836(IDX)  2020-09-07 00:00:00 : Silver Lake leads $500 million investment round in Indian online learning giant Byju’s – TechCrunch || Link --http://techcrunch.com/2020/09/07/silver-lake-leads-500-million-round-in-indias-byjus/ score -- 0.2095801058876128\n",
      "\n",
      "Recomendation 4 --- 656(IDX)  2020-08-19 00:00:00 : COVID-19, visas, Trump: International students turning away from US colleges for lots of reasons || Link --https://www.usatoday.com/story/news/education/2020/08/19/covid-college-fall-semester-2020-international-student-visa-donald-trump/5585675002/ score -- 0.07774520439884613\n",
      "\n",
      "Recomendation 5 --- 178(IDX)  2020-08-31 00:00:00 : Chan Zuckerberg Initiative backs Indian education startup Eruditus in $113 million fundraise – TechCrunch || Link --http://techcrunch.com/2020/08/31/chan-zuckerberg-initiative-backs-indian-education-startup-eruditus-in-113-million-fundraise/ score -- 0.06696359186330687\n",
      "\n",
      "Recomendation 6 --- 765(IDX)  2020-08-31 00:00:00 : Chan Zuckerberg Initiative backs Indian education startup Eruditus in $113 million fundraise – TechCrunch || Link --http://techcrunch.com/2020/08/31/chan-zuckerberg-initiative-backs-indian-education-startup-eruditus-in-113-million-fundraise/ score -- 0.06696359186330687\n",
      "\n",
      "Recomendation 7 --- 5(IDX)  2020-09-15 00:00:00 : Facebook announces $4.3 million grant for small businesses in India, introduces support for gift cards – TechCrunch || Link --http://techcrunch.com/2020/09/15/facebook-announces-4-3-million-grant-for-small-businesses-in-india-introduces-support-for-gift-cards/ score -- 0.0655526308927806\n",
      "\n",
      "Recomendation 8 --- 927(IDX)  2020-09-15 00:00:00 : Facebook announces $4.3 million grant for small businesses in India, introduces support for gift cards – TechCrunch || Link --http://techcrunch.com/2020/09/15/facebook-announces-4-3-million-grant-for-small-businesses-in-india-introduces-support-for-gift-cards/ score -- 0.0655526308927806\n",
      "\n",
      "Recomendation 9 --- 254(IDX)  2020-08-27 00:00:00 : Presenting TechCrunch Disrupt’s Asia sessions – TechCrunch || Link --http://techcrunch.com/2020/08/27/presenting-techcrunch-disrupts-asia-sessions/ score -- 0.06488678681352943\n",
      "\n",
      "Recomendation 10 --- 725(IDX)  2020-08-27 00:00:00 : Presenting TechCrunch Disrupt’s Asia sessions – TechCrunch || Link --http://techcrunch.com/2020/08/27/presenting-techcrunch-disrupts-asia-sessions/ score -- 0.06488678681352943\n",
      "\n"
     ]
    }
   ],
   "source": [
    "idx=8  \n",
    "no_of_news_article=10\n",
    "rec(idx,no_of_news_article)"
   ]
  },
  {
   "cell_type": "code",
   "execution_count": null,
   "metadata": {},
   "outputs": [],
   "source": []
  }
 ],
 "metadata": {
  "kernelspec": {
   "display_name": "Python 3 (ipykernel)",
   "language": "python",
   "name": "python3"
  },
  "language_info": {
   "codemirror_mode": {
    "name": "ipython",
    "version": 3
   },
   "file_extension": ".py",
   "mimetype": "text/x-python",
   "name": "python",
   "nbconvert_exporter": "python",
   "pygments_lexer": "ipython3",
   "version": "3.11.4"
  }
 },
 "nbformat": 4,
 "nbformat_minor": 2
}
